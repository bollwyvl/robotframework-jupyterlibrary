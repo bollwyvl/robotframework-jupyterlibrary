{
 "cells": [
  {
   "cell_type": "markdown",
   "metadata": {},
   "source": [
    "# KEYWORDS\n",
    "Keywords are the the smallest unit of Robot Framework tasks and tests. The built-in Robot Framework documentation is _pretty good_, but for various reasons, are split out below.\n",
    "\n",
    "> _click 🔎 in the bottom right to filter_"
   ]
  },
  {
   "cell_type": "markdown",
   "metadata": {},
   "source": [
    "## Browser + Server\n",
    "`JupyterLibrary` inherits all of the keywords of [SeleniumLibrary](http://robotframework.org/SeleniumLibrary/SeleniumLibrary.html), and then adds a few more, including the two most important ones:\n",
    "\n",
    "- **Wait for New Jupyter Server to be Ready**\n",
    "- **Terminate All Jupyter Servers**\n",
    "\n",
    "All the server keywords include _Jupyter_ in the keyword name, and all of the client keywords (e.g. [JupyterLab](#JupyterLab)) are also dynamically loaded. A few screenshot convenience methods are also provided."
   ]
  },
  {
   "cell_type": "code",
   "execution_count": 3,
   "metadata": {
    "jupyter": {
     "source_hidden": true
    }
   },
   "outputs": [
    {
     "data": {
      "text/html": [
       "\n",
       "        <iframe\n",
       "            width=\"100%\"\n",
       "            height=\"\"\n",
       "            src=\"_static/JupyterLibrary.html\"\n",
       "            frameborder=\"0\"\n",
       "            allowfullscreen\n",
       "        ></iframe>\n",
       "        "
      ],
      "text/plain": [
       "<IPython.lib.display.IFrame at 0x7ff15c58c4a8>"
      ]
     },
     "execution_count": 3,
     "metadata": {},
     "output_type": "execute_result"
    }
   ],
   "source": [
    "iframe = lambda url: __import__(\"IPython\").display.IFrame(f\"_static/{url}.html\", width=\"100%\", height=\"\")\n",
    "iframe(\"JupyterLibrary\")"
   ]
  },
  {
   "cell_type": "markdown",
   "metadata": {},
   "source": [
    "## JupyterLab\n",
    "The JupyterLab keywords are themselves defined in `.robot` files, and are loaded dynamically. They all include _JupyterLab_ in the keyword name."
   ]
  },
  {
   "cell_type": "code",
   "execution_count": 4,
   "metadata": {
    "jupyter": {
     "source_hidden": true
    }
   },
   "outputs": [
    {
     "data": {
      "text/html": [
       "\n",
       "        <iframe\n",
       "            width=\"100%\"\n",
       "            height=\"\"\n",
       "            src=\"_static/JupyterLab.html\"\n",
       "            frameborder=\"0\"\n",
       "            allowfullscreen\n",
       "        ></iframe>\n",
       "        "
      ],
      "text/plain": [
       "<IPython.lib.display.IFrame at 0x7ff15c5cca20>"
      ]
     },
     "execution_count": 4,
     "metadata": {},
     "output_type": "execute_result"
    }
   ],
   "source": [
    "iframe(\"JupyterLab\")"
   ]
  }
 ],
 "metadata": {
  "kernelspec": {
   "display_name": "Python 3",
   "language": "python",
   "name": "python3"
  },
  "language_info": {
   "codemirror_mode": {
    "name": "ipython",
    "version": 3
   },
   "file_extension": ".py",
   "mimetype": "text/x-python",
   "name": "python",
   "nbconvert_exporter": "python",
   "pygments_lexer": "ipython3",
   "version": "3.7.1"
  }
 },
 "nbformat": 4,
 "nbformat_minor": 2
}
