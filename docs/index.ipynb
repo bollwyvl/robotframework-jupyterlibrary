{
 "cells": [
  {
   "cell_type": "code",
   "execution_count": null,
   "metadata": {
    "jupyter": {
     "source_hidden": true
    }
   },
   "outputs": [],
   "source": [
    "import IPython\n",
    "IPython.display.display(\n",
    "    IPython.display.Markdown(\"../README.md\")\n",
    ")"
   ]
  },
  {
   "cell_type": "markdown",
   "metadata": {
    "nbsphinx-toctree": {
     "maxdepth": 2
    }
   },
   "source": [
    "- [WHY](WHY.ipynb)\n",
    "- [INSTALL](INSTALL.ipynb)\n",
    "- [KEYWORDS](KEYWORDS.ipynb)\n",
    "- [MAGIC](MAGIC.ipynb)\n",
    "- [CI](CI.ipynb)\n",
    "- [LIMITS](LIMITS.ipynb)\n",
    "- [HISTORY](HISTORY.ipynb)"
   ]
  }
 ],
 "metadata": {
  "kernelspec": {
   "display_name": "Python 3",
   "language": "python",
   "name": "python3"
  },
  "language_info": {
   "codemirror_mode": {
    "name": "ipython",
    "version": 3
   },
   "file_extension": ".py",
   "mimetype": "text/x-python",
   "name": "python",
   "nbconvert_exporter": "python",
   "pygments_lexer": "ipython3",
   "version": "3.9.0"
  }
 },
 "nbformat": 4,
 "nbformat_minor": 4
}
