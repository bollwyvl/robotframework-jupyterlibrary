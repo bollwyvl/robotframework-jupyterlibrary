{
 "cells": [
  {
   "cell_type": "markdown",
   "metadata": {},
   "source": [
    "# JupyterLibrary"
   ]
  },
  {
   "cell_type": "markdown",
   "metadata": {},
   "source": [
    "> A Robot Framework library for testing Jupyter end-user applications and extensions"
   ]
  },
  {
   "cell_type": "markdown",
   "metadata": {},
   "source": [
    "Write `.robot` files that use `JupyterLibrary` keywords.\n",
    "\n",
    "```robotframework\n",
    "*** Settings ***\n",
    "Library           JupyterLibrary\n",
    "Suite Setup    Wait for New Jupyter Server to be Ready\n",
    "Test Teardown     Reset JupyterLab and Close\n",
    "Suite Teardown    Terminate All Jupyter Servers\n",
    "\n",
    "*** Test Cases ***\n",
    "IPython Notebook\n",
    "    Open JupyterLab\n",
    "    Launch a new JupyterLab Document\n",
    "    Add and Run JupyterLab Code Cell    print(\"hello world\")\n",
    "    Wait Until JupyterLab Kernel Is Idle\n",
    "    Capture Page Screenshot    ipython.png\n",
    "```"
   ]
  },
  {
   "cell_type": "markdown",
   "metadata": {
    "nbsphinx-toctree": {
     "maxdepth": 2
    }
   },
   "source": [
    "# MORE\n",
    "- [WHY](WHY.ipynb)\n",
    "- [INSTALL](INSTALL.ipynb)\n",
    "- [KEYWORDS](KEYWORDS.ipynb)"
   ]
  }
 ],
 "metadata": {
  "kernelspec": {
   "display_name": "Python 3",
   "language": "python",
   "name": "python3"
  },
  "language_info": {
   "codemirror_mode": {
    "name": "ipython",
    "version": 3
   },
   "file_extension": ".py",
   "mimetype": "text/x-python",
   "name": "python",
   "nbconvert_exporter": "python",
   "pygments_lexer": "ipython3",
   "version": "3.7.1"
  }
 },
 "nbformat": 4,
 "nbformat_minor": 2
}
