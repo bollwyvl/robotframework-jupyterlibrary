{
 "cells": [
  {
   "cell_type": "code",
   "execution_count": 2,
   "metadata": {
    "jupyter": {
     "source_hidden": true
    }
   },
   "outputs": [
    {
     "data": {
      "text/markdown": [
       "# robotframework-jupyterlibrary\n",
       "\n",
       "> A [Robot Framework][] library for automating (testing of) [Jupyter][] end-user\n",
       "> applications and extensions\n",
       "\n",
       "[robot framework]: http://robotframework.org\n",
       "[jupyter]: https://jupyter.org\n",
       "\n",
       "|          pip          |                 conda                 |          docs           |            demo             |             actions             |\n",
       "| :-------------------: | :-----------------------------------: | :---------------------: | :-------------------------: | :-----------------------------: |\n",
       "| [![pip-badge][]][pip] | [![conda-forge-badge][]][conda-forge] | [![docs-badge][]][docs] | [![binder-badge][]][binder] | [![workflow-badge][]][workflow] |\n",
       "\n",
       "# Using\n",
       "\n",
       "Write `.robot` files that use `JupyterLibrary` keywords.\n",
       "\n",
       "```robotframework\n",
       "*** Settings ***\n",
       "Library           JupyterLibrary\n",
       "Suite Setup       Wait for New Jupyter Server to be Ready\n",
       "Test Teardown     Reset JupyterLab and Close\n",
       "Suite Teardown    Terminate All Jupyter Servers\n",
       "\n",
       "*** Test Cases ***\n",
       "A Notebook in JupyterLab\n",
       "    Open JupyterLab\n",
       "    Launch a new JupyterLab Document\n",
       "    Add and Run JupyterLab Code Cell\n",
       "    Wait Until JupyterLab Kernel Is Idle\n",
       "    Capture Page Screenshot\n",
       "```\n",
       "\n",
       "> or use [magics][] in notebooks.\n",
       "\n",
       "See the [acceptance tests][] for examples.\n",
       "\n",
       "# Installation\n",
       "\n",
       "```bash\n",
       "pip install robotframework-jupyterlibrary\n",
       "```\n",
       "\n",
       "Or\n",
       "\n",
       "```bash\n",
       "conda install -c conda-forge robotframework-jupyterlibrary\n",
       "```\n",
       "\n",
       "## Development Installation\n",
       "\n",
       "- get Firefox\n",
       "  - Chrome works, too, but more fickle\n",
       "- get [Miniforge][] (as in Python 3.6+)\n",
       "- clone this repo...\n",
       "\n",
       "      git clone https://github.com/robots-from-jupyter/robotframework-jupyterlibrary\n",
       "      cd robotframework-jupyterlibrary\n",
       "\n",
       "- update and activate...\n",
       "\n",
       "      conda env update\n",
       "      conda activate robotframework-jupyterlibrary\n",
       "\n",
       "- then...\n",
       "\n",
       "      pip install -e . --no-deps --ignore-installed\n",
       "\n",
       "- run the tests...\n",
       "\n",
       "      python -m scripts.atest\n",
       "\n",
       "# Free Software\n",
       "\n",
       "JupyterLibrary is Free Software under the [BSD-3-Clause License][license]. It\n",
       "contains code from a number of other projects:\n",
       "\n",
       "- [Jyve][] ([BSD-3-Clause][jyve-license])\n",
       "  - Initial implementations of robot keywords\n",
       "\n",
       "[license]:\n",
       "  https://github.com/robots-from-jupyter/robotframework-jupyterlibrary/blob/master/LICENSE\n",
       "[acceptance tests]:\n",
       "  https://github.com/robots-from-jupyter/robotframework-jupyterlibrary/tree/master/atest\n",
       "[miniforge]: https://github.com/conda-forge/miniforge/releases\n",
       "[binder-badge]: https://mybinder.org/badge_logo.svg\n",
       "[binder]:\n",
       "  https://mybinder.org/v2/gh/robots-from-jupyter/robotframework-jupyterlibrary/master?urlpath=lab/tree/docs/MAGIC.ipynb\n",
       "[workflow-badge]:\n",
       "  https://github.com/robots-from-jupyter/robotframework-jupyterlibrary/workflows/CI/badge.svg\n",
       "[workflow]:\n",
       "  https://github.com/robots-from-jupyter/robotframework-jupyterlibrary/actions?query=workflow%3ACI+branch%3Amaster\n",
       "[docs-badge]:\n",
       "  https://readthedocs.org/projects/robotframework-jupyterlibrary/badge/?version=latest\n",
       "[pip-badge]: https://img.shields.io/pypi/v/robotframework-jupyterlibrary.svg\n",
       "[pip]: https://pypi.org/project/robotframework-jupyterlibrary\n",
       "[conda-forge]:\n",
       "  https://github.com/conda-forge/robotframework-jupyterlibrary-feedstock#installing-robotframework-jupyterlibrary\n",
       "[conda-forge-badge]:\n",
       "  https://img.shields.io/conda/vn/conda-forge/robotframework-jupyterlibrary.svg\n",
       "[docs]: https://robotframework-jupyterlibrary.readthedocs.io\n",
       "[seleniumlibrary]: https://github.com/robotframework/SeleniumLibrary\n",
       "[selibrary-license]:\n",
       "  https://github.com/robotframework/SeleniumLibrary/blob/master/LICENSE.txt\n",
       "[jyve]: https://github.com/deathbeds/jyve\n",
       "[jyve-license]: https://github.com/deathbeds/jyve/blob/master/LICENSE\n",
       "[magics]:\n",
       "  https://robotframework-jupyterlibrary.readthedocs.io/en/latest/MAGIC.html\n"
      ],
      "text/plain": [
       "<IPython.core.display.Markdown object>"
      ]
     },
     "metadata": {},
     "output_type": "display_data"
    }
   ],
   "source": [
    "import IPython\n",
    "IPython.display.display(\n",
    "    IPython.display.Markdown(\"../README.md\")\n",
    ")"
   ]
  },
  {
   "cell_type": "markdown",
   "metadata": {
    "nbsphinx-toctree": {
     "maxdepth": 2
    }
   },
   "source": [
    "- [WHY](WHY.ipynb)\n",
    "- [INSTALL](INSTALL.ipynb)\n",
    "- [KEYWORDS](KEYWORDS.ipynb)\n",
    "- [MAGIC](MAGIC.ipynb)\n",
    "- [CI](CI.ipynb)\n",
    "- [LIMITS](LIMITS.ipynb)\n",
    "- [HISTORY](HISTORY.ipynb)"
   ]
  }
 ],
 "metadata": {
  "kernelspec": {
   "display_name": "Python 3",
   "language": "python",
   "name": "python3"
  },
  "language_info": {
   "codemirror_mode": {
    "name": "ipython",
    "version": 3
   },
   "file_extension": ".py",
   "mimetype": "text/x-python",
   "name": "python",
   "nbconvert_exporter": "python",
   "pygments_lexer": "ipython3",
   "version": "3.9.0"
  }
 },
 "nbformat": 4,
 "nbformat_minor": 4
}
