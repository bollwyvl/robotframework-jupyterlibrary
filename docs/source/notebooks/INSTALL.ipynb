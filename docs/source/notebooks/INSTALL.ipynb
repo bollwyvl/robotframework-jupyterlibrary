{
 "cells": [
  {
   "cell_type": "markdown",
   "metadata": {},
   "source": [
    "# INSTALL\n",
    "Installing `JupyterLibrary` will bring along Robot Framework and SeleniumLibrary. Jupyter components, like `notebook`, `jupyterlab` and `nteract_on_jupyter`, and browser executors (e.g. `chromedriver`, `geckodriver`) and various utilities (e.g. `nodejs`) are up to you, depending on what you want to test. Here are some examples.\n",
    "\n",
    "> _Sorry for the mess, haven't actually shipped anything yet... but the [DEV](#DEV) install does kinda work already_"
   ]
  },
  {
   "cell_type": "markdown",
   "metadata": {},
   "source": [
    "## TODO `conda`"
   ]
  },
  {
   "cell_type": "markdown",
   "metadata": {},
   "source": [
    "## TODO `pip`"
   ]
  },
  {
   "cell_type": "markdown",
   "metadata": {},
   "source": [
    "## TODO `pipenv`"
   ]
  },
  {
   "cell_type": "markdown",
   "metadata": {},
   "source": [
    "## TODO `poetry`"
   ]
  },
  {
   "cell_type": "markdown",
   "metadata": {},
   "source": [
    "## TODO `anaconda-project`"
   ]
  },
  {
   "cell_type": "markdown",
   "metadata": {},
   "source": [
    "## DEV\n",
    "`JupyterLibrary` is under active development, and is heavily invested in `conda` because of the complexity of managing browser execution dependencies. But `conda` (rightly) makes it hard to install Random Repos from the Internet, so you'll need a bit of `pip`, too. \n",
    "\n",
    "Here's a complete setup:\n",
    "```bash\n",
    "conda create \\\n",
    "  -n testing-jupyter \\              # as good a name as any\n",
    "  python=3                          # 2020 is right around the corner\n",
    "\n",
    "conda activate testing-jupyter      # get on the right PATH\n",
    "\n",
    "conda install \\\n",
    "  -c conda-forge \\                  # can't get all these from Austin\n",
    "  jupyterlab \\                      # mostly this\n",
    "  robotframework-seleniumlibrary \\  # includes robotframework... and selenium\n",
    "  geckodriver \\                     # moz:\\\\a FTW\n",
    "  python-chromedriver-binary        # for the rest of the marketshare\n",
    "\n",
    "pip install --no-deps \\             # don't want any surprises\n",
    "  nteract_on_jupyter \\              # now with more ✨\n",
    "  git+http://github.com/bollwyvl/robotframework-jupyterlibrary#egg=JupyterLibrary\n",
    "```\n",
    "Also take a gander at this project's `environment.yml` or `anaconda-project.yml` at that URL there."
   ]
  }
 ],
 "metadata": {
  "kernelspec": {
   "display_name": "Python 3",
   "language": "python",
   "name": "python3"
  },
  "language_info": {
   "codemirror_mode": {
    "name": "ipython",
    "version": 3
   },
   "file_extension": ".py",
   "mimetype": "text/x-python",
   "name": "python",
   "nbconvert_exporter": "python",
   "pygments_lexer": "ipython3",
   "version": "3.7.1"
  }
 },
 "nbformat": 4,
 "nbformat_minor": 2
}
