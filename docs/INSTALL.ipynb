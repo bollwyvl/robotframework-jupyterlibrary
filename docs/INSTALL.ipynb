{
 "cells": [
  {
   "cell_type": "markdown",
   "metadata": {},
   "source": [
    "# INSTALL\n",
    "Installing `JupyterLibrary` will bring along Robot Framework and SeleniumLibrary. Jupyter components, like `notebook`, `jupyterlab` and `nteract_on_jupyter`, and browser executors (e.g. `chromedriver`, `geckodriver`) and various utilities (e.g. `nodejs`) are up to you, depending on what you want to test. Here are some examples."
   ]
  },
  {
   "cell_type": "markdown",
   "metadata": {},
   "source": [
    "## `pip`\n",
    "```bash\n",
    "pip install robotframework-jupyterlibrary\n",
    "```"
   ]
  },
  {
   "cell_type": "markdown",
   "metadata": {},
   "source": [
    "## `conda`\n",
    "```bash\n",
    "conda install -c conda-forge robotframework-jupyterlibrary\n",
    "```"
   ]
  },
  {
   "cell_type": "markdown",
   "metadata": {},
   "source": [
    "## `master`\n",
    "`JupyterLibrary` is under active development, and is heavily invested in `conda` because of the complexity of managing browser execution dependencies. But `conda` (rightly) makes it hard to install Random Repos from the Internet, so you'll need a bit of `pip`, too. \n",
    "\n",
    "Here's a complete setup:\n",
    "```shell\n",
    "conda create \\\n",
    "  -n testing-jupyter \\              # as good a name as any\n",
    "  python=3                          # 2020 is right around the corner\n",
    "\n",
    "conda activate testing-jupyter      # get on the right PATH\n",
    "\n",
    "conda install \\\n",
    "  -c conda-forge \\                  # can't get all these from Austin\n",
    "  jupyterlab \\                      # mostly this\n",
    "  robotframework-seleniumlibrary \\  # includes robotframework... and selenium\n",
    "  geckodriver \\                     # moz:\\\\a FTW\n",
    "  python-chromedriver-binary        # for the rest of the marketshare\n",
    "\n",
    "pip install --no-deps \\             # don't want any surprises\n",
    "  nteract_on_jupyter \\              # now with more ✨\n",
    "  git+http://github.com/robots-from-jupyter/robotframework-jupyterlibrary#egg=JupyterLibrary\n",
    "```"
   ]
  },
  {
   "cell_type": "markdown",
   "metadata": {},
   "source": [
    "## DEV\n",
    "- clone\n",
    "  \n",
    "```bash\n",
    "git clone http://github.com/robots-from-jupyter/robotframework-jupyterlibrary\n",
    "cd robotframework-jupyterlibrary\n",
    "```\n",
    "\n",
    "- update and activate\n",
    "\n",
    "```bash\n",
    "conda install -c conda-forge doit\n",
    "```\n",
    "\n",
    "- then\n",
    "\n",
    "```bash\n",
    "doit list\n",
    "```\n",
    "\n",
    "- a good starting point is everything needed to cut the next release\n",
    "\n",
    "```bash\n",
    "doit release\n",
    "```\n",
    "\n",
    "- a special case: if you want to update package versions, add new CI excursions, get `conda-lock` with `pip`, `conda` or `mamba`, then:\n",
    "\n",
    "```bash\n",
    "doit lock\n",
    "```"
   ]
  }
 ],
 "metadata": {
  "kernelspec": {
   "display_name": "Python 3",
   "language": "python",
   "name": "python3"
  },
  "language_info": {
   "codemirror_mode": {
    "name": "ipython",
    "version": 3
   },
   "file_extension": ".py",
   "mimetype": "text/x-python",
   "name": "python",
   "nbconvert_exporter": "python",
   "pygments_lexer": "ipython3",
   "version": "3.9.0"
  },
  "nteract": {
   "version": "nteract-on-jupyter@0.35.4"
  }
 },
 "nbformat": 4,
 "nbformat_minor": 4
}
